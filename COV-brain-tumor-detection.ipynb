{
 "cells": [
  {
   "cell_type": "markdown",
   "id": "74bc08353c7a9136",
   "metadata": {
    "collapsed": false
   },
   "source": [
    "# Brain Tumor Detection"
   ]
  },
  {
   "cell_type": "markdown",
   "id": "23c2aad5-7d12-4d40-90fc-45394f24d901",
   "metadata": {},
   "source": [
    "### Install the dataset from Kaggle"
   ]
  },
  {
   "cell_type": "code",
   "execution_count": 31,
   "id": "d48d75e3-8ce5-4b70-8c41-0d38c3655d8d",
   "metadata": {
    "ExecuteTime": {
     "end_time": "2024-06-12T18:37:41.235360700Z",
     "start_time": "2024-06-12T18:37:39.424469300Z"
    }
   },
   "outputs": [
    {
     "name": "stdout",
     "output_type": "stream",
     "text": [
      "Requirement already satisfied: kaggle in c:\\programdata\\anaconda3\\envs\\cov-brain-tumor-detection\\lib\\site-packages (1.6.14)\n",
      "Requirement already satisfied: six>=1.10 in c:\\programdata\\anaconda3\\envs\\cov-brain-tumor-detection\\lib\\site-packages (from kaggle) (1.16.0)\n",
      "Requirement already satisfied: certifi>=2023.7.22 in c:\\programdata\\anaconda3\\envs\\cov-brain-tumor-detection\\lib\\site-packages (from kaggle) (2024.6.2)\n",
      "Requirement already satisfied: python-dateutil in c:\\programdata\\anaconda3\\envs\\cov-brain-tumor-detection\\lib\\site-packages (from kaggle) (2.9.0)\n",
      "Requirement already satisfied: requests in c:\\programdata\\anaconda3\\envs\\cov-brain-tumor-detection\\lib\\site-packages (from kaggle) (2.32.3)\n",
      "Requirement already satisfied: tqdm in c:\\programdata\\anaconda3\\envs\\cov-brain-tumor-detection\\lib\\site-packages (from kaggle) (4.66.4)\n",
      "Requirement already satisfied: python-slugify in c:\\programdata\\anaconda3\\envs\\cov-brain-tumor-detection\\lib\\site-packages (from kaggle) (8.0.4)\n",
      "Requirement already satisfied: urllib3 in c:\\programdata\\anaconda3\\envs\\cov-brain-tumor-detection\\lib\\site-packages (from kaggle) (2.2.1)\n",
      "Requirement already satisfied: bleach in c:\\programdata\\anaconda3\\envs\\cov-brain-tumor-detection\\lib\\site-packages (from kaggle) (6.1.0)\n",
      "Requirement already satisfied: webencodings in c:\\programdata\\anaconda3\\envs\\cov-brain-tumor-detection\\lib\\site-packages (from bleach->kaggle) (0.5.1)\n",
      "Requirement already satisfied: text-unidecode>=1.3 in c:\\programdata\\anaconda3\\envs\\cov-brain-tumor-detection\\lib\\site-packages (from python-slugify->kaggle) (1.3)\n",
      "Requirement already satisfied: charset-normalizer<4,>=2 in c:\\programdata\\anaconda3\\envs\\cov-brain-tumor-detection\\lib\\site-packages (from requests->kaggle) (3.3.2)\n",
      "Requirement already satisfied: idna<4,>=2.5 in c:\\programdata\\anaconda3\\envs\\cov-brain-tumor-detection\\lib\\site-packages (from requests->kaggle) (3.7)\n",
      "Requirement already satisfied: colorama in c:\\programdata\\anaconda3\\envs\\cov-brain-tumor-detection\\lib\\site-packages (from tqdm->kaggle) (0.4.6)\n"
     ]
    }
   ],
   "source": [
    "! pip install kaggle"
   ]
  },
  {
   "cell_type": "code",
   "execution_count": 33,
   "id": "8ffc46c2-8f9d-4163-8b47-726c82c50145",
   "metadata": {
    "ExecuteTime": {
     "end_time": "2024-06-12T18:39:10.501106400Z",
     "start_time": "2024-06-12T18:38:57.241671600Z"
    }
   },
   "outputs": [
    {
     "name": "stdout",
     "output_type": "stream",
     "text": [
      "Dataset URL: https://www.kaggle.com/datasets/navoneel/brain-mri-images-for-brain-tumor-detection\n",
      "License(s): copyright-authors\n",
      "Downloading brain-mri-images-for-brain-tumor-detection.zip to C:\\Users\\Anastasiia\\Desktop\\COV-brain-tumor-detection\n"
     ]
    },
    {
     "name": "stderr",
     "output_type": "stream",
     "text": [
      "\n",
      "  0%|          | 0.00/15.1M [00:00<?, ?B/s]\n",
      "  7%|6         | 1.00M/15.1M [00:00<00:13, 1.13MB/s]\n",
      " 13%|#3        | 2.00M/15.1M [00:01<00:10, 1.33MB/s]\n",
      " 20%|#9        | 3.00M/15.1M [00:02<00:08, 1.55MB/s]\n",
      " 26%|##6       | 4.00M/15.1M [00:02<00:07, 1.61MB/s]\n",
      " 33%|###3      | 5.00M/15.1M [00:03<00:06, 1.57MB/s]\n",
      " 40%|###9      | 6.00M/15.1M [00:04<00:06, 1.55MB/s]\n",
      " 46%|####6     | 7.00M/15.1M [00:05<00:06, 1.37MB/s]\n",
      " 53%|#####2    | 8.00M/15.1M [00:06<00:05, 1.30MB/s]\n",
      " 60%|#####9    | 9.00M/15.1M [00:06<00:04, 1.38MB/s]\n",
      " 66%|######6   | 10.0M/15.1M [00:07<00:03, 1.48MB/s]\n",
      " 73%|#######2  | 11.0M/15.1M [00:08<00:03, 1.32MB/s]\n",
      " 79%|#######9  | 12.0M/15.1M [00:08<00:02, 1.36MB/s]\n",
      " 86%|########6 | 13.0M/15.1M [00:09<00:01, 1.33MB/s]\n",
      " 93%|#########2| 14.0M/15.1M [00:10<00:00, 1.39MB/s]\n",
      " 99%|#########9| 15.0M/15.1M [00:11<00:00, 1.17MB/s]\n",
      "100%|##########| 15.1M/15.1M [00:11<00:00, 1.34MB/s]\n"
     ]
    }
   ],
   "source": [
    "! kaggle datasets download -d navoneel/brain-mri-images-for-brain-tumor-detection"
   ]
  },
  {
   "cell_type": "code",
   "outputs": [],
   "source": [
    "import zipfile\n",
    "\n",
    "with zipfile.ZipFile(\"brain-mri-images-for-brain-tumor-detection.zip\", \"r\") as zip_ref:\n",
    "    zip_ref.extractall(\".\")"
   ],
   "metadata": {
    "collapsed": false,
    "ExecuteTime": {
     "end_time": "2024-06-12T18:43:21.225161300Z",
     "start_time": "2024-06-12T18:43:20.982950700Z"
    }
   },
   "id": "112c4ded5451434e",
   "execution_count": 36
  },
  {
   "cell_type": "markdown",
   "id": "305fa14a-f01e-49f0-9184-f9c8562bee24",
   "metadata": {},
   "source": []
  },
  {
   "cell_type": "code",
   "execution_count": 13,
   "id": "bb656f9918745c85",
   "metadata": {
    "ExecuteTime": {
     "end_time": "2024-06-12T17:50:39.958683700Z",
     "start_time": "2024-06-12T17:50:39.944070800Z"
    },
    "collapsed": false
   },
   "outputs": [],
   "source": [
    "import pickle\n",
    "\n",
    "from keras.callbacks import EarlyStopping\n",
    "from sklearn.metrics import accuracy_score, confusion_matrix\n",
    "\n",
    "from COV_brain_tumor_detection import (\n",
    "    create_data_generators,\n",
    "    TEST_DIR,\n",
    "    TRAIN_DIR,\n",
    "    VAL_DIR,\n",
    "    create_model,\n",
    "    preprocess_images,\n",
    "    load_data,\n",
    "    split_data,\n",
    "    clean_directory,\n",
    "    remove_directories,\n",
    "    save_new_images,\n",
    "    plot_confusion_matrix,\n",
    "    plot_data_distribution,\n",
    "    plot_model_performance,\n",
    "    plot_samples,\n",
    ")"
   ]
  },
  {
   "cell_type": "code",
   "execution_count": null,
   "id": "e40b7681680511b4",
   "metadata": {
    "collapsed": false
   },
   "outputs": [],
   "source": [
    "remove_directories([TRAIN_DIR, TEST_DIR, VAL_DIR])"
   ]
  },
  {
   "cell_type": "code",
   "execution_count": null,
   "id": "5223044571f8bf0a",
   "metadata": {
    "collapsed": false
   },
   "outputs": [],
   "source": [
    "split_data(\"../brain_tumor_dataset\")"
   ]
  },
  {
   "cell_type": "code",
   "execution_count": null,
   "id": "500eb536d9da7601",
   "metadata": {
    "collapsed": false
   },
   "outputs": [],
   "source": [
    "plot_data_distribution()"
   ]
  },
  {
   "cell_type": "code",
   "execution_count": null,
   "id": "8c8bd9efd7d9e23d",
   "metadata": {
    "collapsed": false
   },
   "outputs": [],
   "source": [
    "X_train, y_train, labels = load_data(TRAIN_DIR)\n",
    "X_test, y_test, _ = load_data(TEST_DIR)\n",
    "X_val, y_val, _ = load_data(VAL_DIR)"
   ]
  },
  {
   "cell_type": "code",
   "execution_count": null,
   "id": "9b5a70110e358bfb",
   "metadata": {
    "collapsed": false
   },
   "outputs": [],
   "source": [
    "plot_samples(X_train, y_train, labels)"
   ]
  },
  {
   "cell_type": "code",
   "execution_count": null,
   "id": "7220ec33df90a874",
   "metadata": {
    "collapsed": false
   },
   "outputs": [],
   "source": [
    "X_train_prep = preprocess_images(X_train)\n",
    "X_val_prep = preprocess_images(X_val)\n",
    "X_test_prep = preprocess_images(X_test)"
   ]
  },
  {
   "cell_type": "code",
   "execution_count": null,
   "id": "5c7de60b4309127c",
   "metadata": {
    "collapsed": false
   },
   "outputs": [],
   "source": [
    "plot_samples(X_train_prep, y_train, labels)"
   ]
  },
  {
   "cell_type": "code",
   "execution_count": null,
   "id": "3f0e945d8d84c87e",
   "metadata": {
    "collapsed": false
   },
   "outputs": [],
   "source": [
    "save_new_images(X_train_prep, y_train, folder_name=TRAIN_DIR)\n",
    "save_new_images(X_val_prep, y_val, folder_name=VAL_DIR)\n",
    "save_new_images(X_test_prep, y_test, folder_name=TEST_DIR)"
   ]
  },
  {
   "cell_type": "code",
   "execution_count": null,
   "id": "1a260eff6594a61c",
   "metadata": {
    "collapsed": false
   },
   "outputs": [],
   "source": [
    "clean_directory(TRAIN_DIR)\n",
    "clean_directory(VAL_DIR)\n",
    "clean_directory(TEST_DIR)"
   ]
  },
  {
   "cell_type": "markdown",
   "source": [],
   "metadata": {
    "collapsed": false
   },
   "id": "28f9e079527d4236"
  },
  {
   "cell_type": "code",
   "execution_count": null,
   "id": "a7e8277bf4ffa1c4",
   "metadata": {
    "collapsed": false
   },
   "outputs": [],
   "source": [
    "model = create_model()\n",
    "model.summary()"
   ]
  },
  {
   "cell_type": "code",
   "execution_count": null,
   "id": "f048f10a89f1efb6",
   "metadata": {
    "collapsed": false
   },
   "outputs": [],
   "source": [
    "train_generator, validation_generator = create_data_generators()"
   ]
  },
  {
   "cell_type": "code",
   "execution_count": null,
   "id": "e371a702143ab7a9",
   "metadata": {
    "collapsed": false
   },
   "outputs": [],
   "source": [
    "history = model.fit(\n",
    "    train_generator,\n",
    "    steps_per_epoch=7,\n",
    "    epochs=30,\n",
    "    validation_data=validation_generator,\n",
    "    validation_steps=2,\n",
    "    callbacks=[EarlyStopping(monitor=\"val_accuracy\", mode=\"max\", patience=6)],\n",
    ")\n",
    "\n",
    "model.save('cnn-vgg16.h5')\n",
    "\n",
    "with open(\"model_history.pkl\", \"wb\") as file_pi:\n",
    "    pickle.dump(history.history, file_pi)"
   ]
  },
  {
   "cell_type": "code",
   "execution_count": null,
   "id": "ca5bc898e6a39382",
   "metadata": {
    "collapsed": false
   },
   "outputs": [],
   "source": [
    "with open(\"model_history.pkl\", \"rb\") as file_pi:\n",
    "    loaded_history = pickle.load(file_pi)\n",
    "    \n",
    "plot_model_performance(loaded_history)"
   ]
  },
  {
   "cell_type": "code",
   "execution_count": null,
   "id": "5eb47d398ecf980f",
   "metadata": {
    "collapsed": false
   },
   "outputs": [],
   "source": [
    "predictions_test = [1 if x > 0.5 else 0 for x in model.predict(X_test_prep)]"
   ]
  },
  {
   "cell_type": "code",
   "execution_count": null,
   "id": "d0ae3a2f2e1bd252",
   "metadata": {
    "collapsed": false
   },
   "outputs": [],
   "source": [
    "accuracy = accuracy_score(y_test, predictions_test)\n",
    "print(\"Test Accuracy = %.2f\" % accuracy)"
   ]
  },
  {
   "cell_type": "code",
   "execution_count": null,
   "id": "51b9cc1a85f873d2",
   "metadata": {
    "collapsed": false
   },
   "outputs": [],
   "source": [
    "confusion_mtx = confusion_matrix(y_test, predictions_test)\n",
    "plot_confusion_matrix(confusion_mtx, classes=list(labels.items()), normalize=False)"
   ]
  },
  {
   "cell_type": "markdown",
   "source": [],
   "metadata": {
    "collapsed": false
   },
   "id": "9630f30e1a17ccc0"
  },
  {
   "cell_type": "code",
   "execution_count": null,
   "id": "fa4f4e0a3b7b85dc",
   "metadata": {
    "collapsed": false
   },
   "outputs": [],
   "source": [
    "import numpy as np\n",
    "\n",
    "from PIL import Image\n",
    "from keras.saving.save import load_model"
   ]
  },
  {
   "cell_type": "code",
   "execution_count": 15,
   "id": "1ae74130b1f90844",
   "metadata": {
    "ExecuteTime": {
     "end_time": "2024-06-12T17:50:42.970693200Z",
     "start_time": "2024-06-12T17:50:42.486860Z"
    },
    "collapsed": false
   },
   "outputs": [],
   "source": [
    "model = load_model('COV_brain_tumor_detection/cnn-vgg16.h5')"
   ]
  },
  {
   "cell_type": "code",
   "execution_count": 25,
   "id": "84f7d76335535a60",
   "metadata": {
    "ExecuteTime": {
     "end_time": "2024-06-12T17:53:04.280888800Z",
     "start_time": "2024-06-12T17:53:04.263535800Z"
    },
    "collapsed": false
   },
   "outputs": [],
   "source": [
    "def predict_tumor(img_path):\n",
    "    img = Image.open(img_path)\n",
    "    img = img.resize((224, 224))\n",
    "    img_array = np.array(img)\n",
    "    img_tensor = np.expand_dims(img_array, axis=0)\n",
    "    img_tensor = img_tensor.astype('float32') / 255.0\n",
    "\n",
    "    prediction = model.predict(img_tensor)\n",
    "    \n",
    "    if prediction[0][0] > 0.5:\n",
    "        return \"The tumour was found\"\n",
    "    else:\n",
    "        return \"No tumour was found\""
   ]
  },
  {
   "cell_type": "code",
   "execution_count": 26,
   "id": "f2fd88581cd82a99",
   "metadata": {
    "ExecuteTime": {
     "end_time": "2024-06-12T17:53:04.669820900Z",
     "start_time": "2024-06-12T17:53:04.634774900Z"
    },
    "collapsed": false
   },
   "outputs": [],
   "source": [
    "image_path = 'brain_tumor_dataset/no/2 no.jpeg'"
   ]
  },
  {
   "cell_type": "code",
   "execution_count": null,
   "id": "1c27fcb5a4e2bb13",
   "metadata": {
    "collapsed": false
   },
   "outputs": [],
   "source": [
    "result = predict_tumor(image_path)\n",
    "print(result)"
   ]
  }
 ],
 "metadata": {
  "kernelspec": {
   "display_name": "Python 3 (ipykernel)",
   "language": "python",
   "name": "python3"
  },
  "language_info": {
   "codemirror_mode": {
    "name": "ipython",
    "version": 3
   },
   "file_extension": ".py",
   "mimetype": "text/x-python",
   "name": "python",
   "nbconvert_exporter": "python",
   "pygments_lexer": "ipython3",
   "version": "3.9.15"
  }
 },
 "nbformat": 4,
 "nbformat_minor": 5
}
