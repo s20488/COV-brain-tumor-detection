{
 "cells": [
  {
   "cell_type": "markdown",
   "source": [],
   "metadata": {
    "collapsed": false
   },
   "id": "74bc08353c7a9136"
  },
  {
   "cell_type": "code",
   "outputs": [],
   "source": [
    "import pickle\n",
    "\n",
    "from keras.callbacks import EarlyStopping\n",
    "from sklearn.metrics import accuracy_score, confusion_matrix\n",
    "\n",
    "from COV_brain_tumor_detection import (\n",
    "    create_data_generators,\n",
    "    TEST_DIR,\n",
    "    TRAIN_DIR,\n",
    "    VAL_DIR,\n",
    "    create_model,\n",
    "    preprocess_images,\n",
    "    load_data,\n",
    "    split_data,\n",
    "    clean_directory,\n",
    "    remove_directories,\n",
    "    save_new_images,\n",
    "    plot_confusion_matrix,\n",
    "    plot_data_distribution,\n",
    "    plot_model_performance,\n",
    "    plot_samples,\n",
    ")"
   ],
   "metadata": {
    "collapsed": false,
    "ExecuteTime": {
     "end_time": "2024-06-12T17:50:39.958683700Z",
     "start_time": "2024-06-12T17:50:39.944070800Z"
    }
   },
   "id": "bb656f9918745c85",
   "execution_count": 13
  },
  {
   "cell_type": "code",
   "outputs": [],
   "source": [
    "remove_directories([TRAIN_DIR, TEST_DIR, VAL_DIR])"
   ],
   "metadata": {
    "collapsed": false
   },
   "id": "e40b7681680511b4"
  },
  {
   "cell_type": "code",
   "outputs": [],
   "source": [
    "split_data(\"../brain_tumor_dataset\")"
   ],
   "metadata": {
    "collapsed": false
   },
   "id": "5223044571f8bf0a"
  },
  {
   "cell_type": "code",
   "outputs": [],
   "source": [
    "plot_data_distribution()"
   ],
   "metadata": {
    "collapsed": false
   },
   "id": "500eb536d9da7601"
  },
  {
   "cell_type": "code",
   "outputs": [],
   "source": [
    "X_train, y_train, labels = load_data(TRAIN_DIR)\n",
    "X_test, y_test, _ = load_data(TEST_DIR)\n",
    "X_val, y_val, _ = load_data(VAL_DIR)"
   ],
   "metadata": {
    "collapsed": false
   },
   "id": "8c8bd9efd7d9e23d"
  },
  {
   "cell_type": "code",
   "outputs": [],
   "source": [
    "plot_samples(X_train, y_train, labels)"
   ],
   "metadata": {
    "collapsed": false
   },
   "id": "9b5a70110e358bfb"
  },
  {
   "cell_type": "code",
   "outputs": [],
   "source": [
    "X_train_prep = preprocess_images(X_train)\n",
    "X_val_prep = preprocess_images(X_val)\n",
    "X_test_prep = preprocess_images(X_test)"
   ],
   "metadata": {
    "collapsed": false
   },
   "id": "7220ec33df90a874"
  },
  {
   "cell_type": "code",
   "outputs": [],
   "source": [
    "plot_samples(X_train_prep, y_train, labels)"
   ],
   "metadata": {
    "collapsed": false
   },
   "id": "5c7de60b4309127c"
  },
  {
   "cell_type": "code",
   "outputs": [],
   "source": [
    "save_new_images(X_train_prep, y_train, folder_name=TRAIN_DIR)\n",
    "save_new_images(X_val_prep, y_val, folder_name=VAL_DIR)\n",
    "save_new_images(X_test_prep, y_test, folder_name=TEST_DIR)"
   ],
   "metadata": {
    "collapsed": false
   },
   "id": "3f0e945d8d84c87e"
  },
  {
   "cell_type": "code",
   "outputs": [],
   "source": [
    "clean_directory(TRAIN_DIR)\n",
    "clean_directory(VAL_DIR)\n",
    "clean_directory(TEST_DIR)"
   ],
   "metadata": {
    "collapsed": false
   },
   "id": "1a260eff6594a61c"
  },
  {
   "cell_type": "code",
   "outputs": [],
   "source": [
    "model = create_model()\n",
    "model.summary()"
   ],
   "metadata": {
    "collapsed": false
   },
   "id": "a7e8277bf4ffa1c4"
  },
  {
   "cell_type": "code",
   "outputs": [],
   "source": [
    "train_generator, validation_generator = create_data_generators()"
   ],
   "metadata": {
    "collapsed": false
   },
   "id": "f048f10a89f1efb6"
  },
  {
   "cell_type": "code",
   "outputs": [],
   "source": [
    "history = model.fit(\n",
    "    train_generator,\n",
    "    steps_per_epoch=7,\n",
    "    epochs=30,\n",
    "    validation_data=validation_generator,\n",
    "    validation_steps=2,\n",
    "    callbacks=[EarlyStopping(monitor=\"val_accuracy\", mode=\"max\", patience=6)],\n",
    ")\n",
    "\n",
    "model.save('cnn-vgg16.h5')\n",
    "\n",
    "with open(\"model_history.pkl\", \"wb\") as file_pi:\n",
    "    pickle.dump(history.history, file_pi)"
   ],
   "metadata": {
    "collapsed": false
   },
   "id": "e371a702143ab7a9"
  },
  {
   "cell_type": "code",
   "outputs": [],
   "source": [
    "with open(\"model_history.pkl\", \"rb\") as file_pi:\n",
    "    loaded_history = pickle.load(file_pi)\n",
    "    \n",
    "plot_model_performance(loaded_history)"
   ],
   "metadata": {
    "collapsed": false
   },
   "id": "ca5bc898e6a39382"
  },
  {
   "cell_type": "code",
   "outputs": [],
   "source": [
    "predictions_test = [1 if x > 0.5 else 0 for x in model.predict(X_test_prep)]"
   ],
   "metadata": {
    "collapsed": false
   },
   "id": "5eb47d398ecf980f"
  },
  {
   "cell_type": "code",
   "outputs": [],
   "source": [
    "accuracy = accuracy_score(y_test, predictions_test)\n",
    "print(\"Test Accuracy = %.2f\" % accuracy)"
   ],
   "metadata": {
    "collapsed": false
   },
   "id": "d0ae3a2f2e1bd252"
  },
  {
   "cell_type": "code",
   "outputs": [],
   "source": [
    "confusion_mtx = confusion_matrix(y_test, predictions_test)\n",
    "plot_confusion_matrix(confusion_mtx, classes=list(labels.items()), normalize=False)"
   ],
   "metadata": {
    "collapsed": false
   },
   "id": "51b9cc1a85f873d2"
  },
  {
   "cell_type": "code",
   "outputs": [],
   "source": [
    "import numpy as np\n",
    "\n",
    "from PIL import Image\n",
    "from keras.saving.save import load_model"
   ],
   "metadata": {
    "collapsed": false
   },
   "id": "fa4f4e0a3b7b85dc"
  },
  {
   "cell_type": "code",
   "outputs": [],
   "source": [
    "model = load_model('COV_brain_tumor_detection/cnn-vgg16.h5')"
   ],
   "metadata": {
    "collapsed": false,
    "ExecuteTime": {
     "end_time": "2024-06-12T17:50:42.970693200Z",
     "start_time": "2024-06-12T17:50:42.486860Z"
    }
   },
   "id": "1ae74130b1f90844",
   "execution_count": 15
  },
  {
   "cell_type": "code",
   "outputs": [],
   "source": [
    "def predict_tumor(image_path):\n",
    "    img = Image.open(image_path)\n",
    "    img = img.resize((224, 224))\n",
    "    img_array = np.array(img)\n",
    "    img_tensor = np.expand_dims(img_array, axis=0)\n",
    "    img_tensor = img_tensor.astype('float32') / 255.0\n",
    "\n",
    "    prediction = model.predict(img_tensor)\n",
    "    \n",
    "    if prediction[0][0] > 0.5:\n",
    "        return \"Обнаружено новообразование\"\n",
    "    else:\n",
    "        return \"Новообразование не обнаружено\""
   ],
   "metadata": {
    "collapsed": false,
    "ExecuteTime": {
     "end_time": "2024-06-12T17:53:04.280888800Z",
     "start_time": "2024-06-12T17:53:04.263535800Z"
    }
   },
   "id": "84f7d76335535a60",
   "execution_count": 25
  },
  {
   "cell_type": "code",
   "outputs": [],
   "source": [
    "image_path = 'brain_tumor_dataset/no/2 no.jpeg'"
   ],
   "metadata": {
    "collapsed": false,
    "ExecuteTime": {
     "end_time": "2024-06-12T17:53:04.669820900Z",
     "start_time": "2024-06-12T17:53:04.634774900Z"
    }
   },
   "id": "f2fd88581cd82a99",
   "execution_count": 26
  },
  {
   "cell_type": "code",
   "outputs": [
    {
     "name": "stdout",
     "output_type": "stream",
     "text": [
      "1/1 [==============================] - 0s 361ms/step\n",
      "Новообразование не обнаружено\n"
     ]
    }
   ],
   "source": [
    "result = predict_tumor(image_path)\n",
    "print(result)"
   ],
   "metadata": {
    "collapsed": false,
    "ExecuteTime": {
     "end_time": "2024-06-12T17:53:05.417316700Z",
     "start_time": "2024-06-12T17:53:04.833788500Z"
    }
   },
   "id": "1c27fcb5a4e2bb13",
   "execution_count": 27
  }
 ],
 "metadata": {
  "kernelspec": {
   "display_name": "Python 3",
   "language": "python",
   "name": "python3"
  },
  "language_info": {
   "codemirror_mode": {
    "name": "ipython",
    "version": 2
   },
   "file_extension": ".py",
   "mimetype": "text/x-python",
   "name": "python",
   "nbconvert_exporter": "python",
   "pygments_lexer": "ipython2",
   "version": "2.7.6"
  }
 },
 "nbformat": 4,
 "nbformat_minor": 5
}
